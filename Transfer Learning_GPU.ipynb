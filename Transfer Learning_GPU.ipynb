{
 "cells": [
  {
   "cell_type": "code",
   "execution_count": 1,
   "id": "021baec4-a8a4-446d-b4de-aa8afe040fdf",
   "metadata": {},
   "outputs": [],
   "source": [
    "import torch"
   ]
  },
  {
   "cell_type": "markdown",
   "id": "264fbb3a-232e-4a5e-96c8-3577924ffb5c",
   "metadata": {},
   "source": [
    "torch库是PyTorch的主体部分，PyTorch是一个开源的机器学习库，主要用于自然语言处理、计算机视觉和其他涉及深度学习的领域\n",
    "它提供了 TorchScript 用于模型脚本和优化，以及一个强大的GPU加速 tensor（张量）库，类似于NumPy，但具有在GPU上运行的能力，\n",
    "这对于训练神经网络和进行大规模数值计算非常有用。"
   ]
  },
  {
   "cell_type": "code",
   "execution_count": 2,
   "id": "f24874f0-c5de-41d8-995e-4f3789df873b",
   "metadata": {},
   "outputs": [],
   "source": [
    "import torchvision"
   ]
  },
  {
   "cell_type": "markdown",
   "id": "5fbf2792-d479-413a-98f0-66d0d284ec5f",
   "metadata": {},
   "source": [
    "torchvision是PyTorch框架的一个重要组成部分，专注于计算机视觉任务。通过引入这个库，开发者可以方便地访问预训练的模型、数据集（如ImageNet、CIFAR-10等）、\n",
    "数据转换工具以及用于图像处理和构建深度学习模型的常用函数。"
   ]
  },
  {
   "cell_type": "code",
   "execution_count": null,
   "id": "54cb1e7f-bc50-472d-9376-38ff48fc15a6",
   "metadata": {},
   "outputs": [],
   "source": []
  }
 ],
 "metadata": {
  "kernelspec": {
   "display_name": "Python 3 (ipykernel)",
   "language": "python",
   "name": "python3"
  },
  "language_info": {
   "codemirror_mode": {
    "name": "ipython",
    "version": 3
   },
   "file_extension": ".py",
   "mimetype": "text/x-python",
   "name": "python",
   "nbconvert_exporter": "python",
   "pygments_lexer": "ipython3",
   "version": "3.11.7"
  }
 },
 "nbformat": 4,
 "nbformat_minor": 5
}
